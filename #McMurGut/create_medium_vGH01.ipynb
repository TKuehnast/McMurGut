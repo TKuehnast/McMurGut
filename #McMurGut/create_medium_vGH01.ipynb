{
 "cells": [
  {
   "cell_type": "markdown",
   "id": "4116c18a-ac47-49ed-9a8e-d7fa86f6f66a",
   "metadata": {},
   "source": [
    "# Script Create medium\n",
    "Version GitHub 01\n",
    "\n",
    "The goal is to create a diet file, \n",
    "with a nutrient-basis from the ssniff-diet fed to lab-mice,\n",
    "tailored for the mouse gut.\n",
    " \n",
    "Required:\n",
    "- Model catalog (McMurGut 1.1 / MCMG754)\n",
    "- skeleton diet file.qza (you made yourself)\n",
    "- all metabolites listed (\"id\" = cpd... and \"name\" = H2O column)\n",
    "\n",
    " \n",
    "########################################################  \n",
    "By Torben Kuehnast, torben.kuehnast@gmail.com, 2024\n"
   ]
  },
  {
   "cell_type": "code",
   "execution_count": null,
   "id": "52e04629-ea1e-4de7-b1d1-65ad1127334d",
   "metadata": {},
   "outputs": [],
   "source": [
    "import sys\n",
    "import os\n",
    "import pandas as pd\n",
    "from micom import show_versions\n",
    "from micom.qiime_formats import load_qiime_medium\n",
    "from micom.workflows.db_media import check_db_medium\n",
    "from micom.workflows.db_media import complete_db_medium\n",
    "from qiime2 import Artifact\n"
   ]
  },
  {
   "cell_type": "code",
   "execution_count": null,
   "id": "0188b26c-462c-477e-86ce-2f91d22ea405",
   "metadata": {
    "tags": []
   },
   "outputs": [],
   "source": [
    "## Variablen definieren\n",
    "\n",
    "# Project keyword\n",
    "project = 'projectname'\n",
    "\n",
    "# Project version number (both names will be merged)\n",
    "version_nr = 'v01'\n",
    "\n",
    "# Define working directory, where data is stored \n",
    "working_dir = '/home/'\n",
    "\n",
    "# Define CPUs\n",
    "cpus_used = int(10)\n",
    "\n",
    "# Define your model catalog, like McMurGut, AGORA...\n",
    "mcmurgut_db = '/home/MCMG754_genus.qza'\n",
    "\n",
    "# Diet file you made from the receipt of the chow, transformed to Qiime2 qza format\n",
    "ssniff_medium = '/home/mouse_gut_diet.qza'\n",
    "\n",
    "\n",
    "#Working directory definieren\n",
    "os.chdir(working_dir)\n",
    "import os\n",
    "print(os.getcwd())\n",
    "\n",
    "pro_ver = project+\"_\"+version_nr\n",
    "print(pro_ver)"
   ]
  },
  {
   "cell_type": "code",
   "execution_count": null,
   "id": "dd2057b1-e243-4acd-b723-6872a9dc60ea",
   "metadata": {
    "tags": []
   },
   "outputs": [],
   "source": [
    "# QC correct path to skeleton medium\n",
    "ssniff_medium"
   ]
  },
  {
   "cell_type": "code",
   "execution_count": null,
   "id": "207e5328-e065-4f79-abfe-f02952eaff96",
   "metadata": {
    "tags": []
   },
   "outputs": [],
   "source": [
    "# QC Version check\n",
    "\n",
    "show_versions()"
   ]
  },
  {
   "cell_type": "code",
   "execution_count": null,
   "id": "5853f1ae-fc37-45cf-80a6-91de3a0a101f",
   "metadata": {
    "scrolled": true,
    "tags": []
   },
   "outputs": [],
   "source": [
    "# Loading skeleton file\n",
    "# QC, storing file as CSV\n",
    "\n",
    "skeleton = load_qiime_medium(ssniff_medium)\n",
    "skeleton.to_csv(f'{pro_ver}_skeleton.csv', sep=';', index=True)\n",
    "skeleton"
   ]
  },
  {
   "cell_type": "code",
   "execution_count": null,
   "id": "17f7f6d5-6d09-473e-b6bb-71b2b6664c06",
   "metadata": {
    "scrolled": true,
    "tags": []
   },
   "outputs": [],
   "source": [
    "# check how many McMurGut models can grow under the given skeleton diet file\n",
    "# Zero growing taxa is absolutely possible.\n",
    "\n",
    "check = check_db_medium(mcmurgut_db, skeleton, threads=cpus_used)\n",
    "check.to_csv(f'{pro_ver}_check.csv', sep=';', index=True)\n",
    "check"
   ]
  },
  {
   "cell_type": "code",
   "execution_count": null,
   "id": "4fb2ea68-5ed3-4291-9313-9d2bd748acd0",
   "metadata": {
    "tags": []
   },
   "outputs": [],
   "source": [
    "# Look at the numbers of how many can grow\n",
    "\n",
    "check.can_grow.value_counts()"
   ]
  },
  {
   "cell_type": "code",
   "execution_count": null,
   "id": "b8f9d2d3-9cb1-4ef5-8351-9319df4ffd48",
   "metadata": {
    "tags": []
   },
   "outputs": [],
   "source": [
    "# Define which metabolites are excluded in the medium completion step (like oxygen) \n",
    "# because they may not fit into the environment or unlikely due to toxicity\n",
    "\n",
    "forbidden = [\"EX_cpd00007_e0\", \"EX_cpd00007_e0\", \"EX_cpd00055_e0\", \"EX_cpd00071_e0\", \"EX_cpd00025_e0\", \"EX_cpd00239_e0\", \"EX_cpd00075_e0\", \"EX_cpd00116_e0\", \"EX_cpd00150_e0\"]\n",
    "#forbidden = [\"EX_cpd00007_m\", \"EX_cpd00007_m\", \"EX_cpd00055_m\", \"EX_cpd00071_m\", \"EX_cpd00025_m\", \"EX_cpd00239_m\", \"EX_cpd00075_m\", \"EX_cpd00116_m\", \"EX_cpd00150_m\"]\n",
    "#forbidden = [\"cpd00007\", \"cpd00007\", \"cpd00055\", \"cpd00071\", \"cpd00025\", \"cpd00239\", \"cpd00075\", \"cpd00116\", \"cpd00150\"]\n",
    "forbidden"
   ]
  },
  {
   "cell_type": "code",
   "execution_count": null,
   "id": "c6ec719f-f426-4b90-ad2d-5dbf05ad69ef",
   "metadata": {
    "scrolled": true,
    "tags": []
   },
   "outputs": [],
   "source": [
    "# They cant grow in the skeleton media taken only from ssniff ingredients\n",
    "# So we try to complete the medium with Micom's function\n",
    "# McMurGut models + ssniff (TARGET)\n",
    "\n",
    "# EX_cpd00007_e0 = oxygen\n",
    "#cpd00055\tFormaldehyde\n",
    "#cpd00071\tAcetaldehyde\n",
    "#cpd00025\tHydrogen peroxide\n",
    "#cpd00239\tH2S\n",
    "#cpd00116\tMethanol\n",
    "#cpd00075\tNitrite\n",
    "#cpd00150\tHydrogen cyanide\n",
    "\n",
    "# From Micom (growth): The minimum growth rate the model has to achieve with the (fixed) medium. If a Series will have a minimum growth rate for each id/taxon in the model db.\n",
    "# From Micom (max_added_import): Maximum import flux for each added additional import not included in the growth medium. If positive will expand the medium with additional imports in order to fulfill the growth objective.\n",
    "# See Micom Github documentation for more details\n",
    "\n",
    "manifest, imports = complete_db_medium(mcmurgut_db, skeleton, growth=0.1, threads=cpus_used, max_added_import=20, strict=forbidden, weights=\"mass\")\n",
    "manifest.to_csv(f'{pro_ver}_manifest.csv', sep=';', index=True)\n",
    "imports.to_csv(f'{pro_ver}_imports.csv', sep=';', index=True)"
   ]
  },
  {
   "cell_type": "code",
   "execution_count": null,
   "id": "d10491c3-baf4-45ea-a3ae-c58a0c44c367",
   "metadata": {
    "tags": []
   },
   "outputs": [],
   "source": [
    "# QC of manifest\n",
    "# Was flux added to each taxa?\n",
    "\n",
    "manifest"
   ]
  },
  {
   "cell_type": "code",
   "execution_count": null,
   "id": "34b3f375-8a4e-43a9-936e-34e9be3b00cf",
   "metadata": {
    "tags": []
   },
   "outputs": [],
   "source": [
    "# QC, how many taxa can grow now?\n",
    "\n",
    "manifest.can_grow.value_counts()"
   ]
  },
  {
   "cell_type": "code",
   "execution_count": null,
   "id": "b99fb93b-ca49-41fa-b85e-b643249ba74d",
   "metadata": {
    "tags": []
   },
   "outputs": [],
   "source": [
    "# QC, look at metabolites imported into the completed medium\n",
    "\n",
    "imports"
   ]
  },
  {
   "cell_type": "code",
   "execution_count": null,
   "id": "3bbdaf73-ef8b-4534-bc30-e3e532617e2e",
   "metadata": {
    "tags": []
   },
   "outputs": [],
   "source": [
    "# Oxygen check, hopefully zero (if you are simulating a oxygen-free large intestine)\n",
    "imports[\"EX_cpd00007_m\"].describe()\n"
   ]
  },
  {
   "cell_type": "code",
   "execution_count": null,
   "id": "356a0fdc-bf36-4265-8b39-aa4b7ba95f54",
   "metadata": {
    "tags": []
   },
   "outputs": [],
   "source": [
    "#Formaldehyde\n",
    "imports[\"EX_cpd00055_m\"].describe()\n"
   ]
  },
  {
   "cell_type": "code",
   "execution_count": null,
   "id": "ae4f6680-8138-4e6c-bf02-e2d1058a84c5",
   "metadata": {
    "tags": []
   },
   "outputs": [],
   "source": [
    "manifest.added.describe()"
   ]
  },
  {
   "cell_type": "code",
   "execution_count": null,
   "id": "aa5f8d88-cf8b-4eb2-a515-8fd56295fcb7",
   "metadata": {
    "scrolled": true,
    "tags": []
   },
   "outputs": [],
   "source": [
    "# QC, which taxa did not grow?\n",
    "\n",
    "manifest[~manifest.can_grow]"
   ]
  },
  {
   "cell_type": "code",
   "execution_count": null,
   "id": "4e8a012d-c2ec-4ad4-b880-b31e358453bf",
   "metadata": {
    "tags": []
   },
   "outputs": [],
   "source": [
    "# Transform the flux into a diet file\n",
    "\n",
    "fluxes = imports.max()\n",
    "\n",
    "# Lade das TSV-File mit den Metabolit-Beschreibungen\n",
    "metabolite_info = pd.read_csv(\"/home/all_gapseq_metabolites_756.tsv\", sep='\\t', usecols=['id', 'name'])\n",
    "\n",
    "# Ersetze spezielle Zeichen in der 'name'-Spalte\n",
    "metabolite_info['name'] = metabolite_info['name'].str.replace(\"[-,;'']\", \"_\", regex=True)\n",
    "\n",
    "# Convert skeleton DataFrame to a format that is easy to update\n",
    "completed = skeleton.set_index('reaction')\n",
    "\n",
    "# Update or add new rows based on the fluxes values\n",
    "for reaction, flux in fluxes.items():\n",
    "    metabolite_id = reaction.replace(\"EX_\", \"\").replace(\"_m\", \"\")\n",
    "    if reaction in completed.index:\n",
    "        completed.loc[reaction, 'flux'] = flux  # Update existing flux\n",
    "    else:\n",
    "        # Versuche, die Beschreibung aus dem TSV zu finden\n",
    "        description = metabolite_info.loc[metabolite_info['id'] == metabolite_id, 'name'].iloc[0] if not metabolite_info[metabolite_info['id'] == metabolite_id].empty else \"\"\n",
    "        \n",
    "        # Create a new DataFrame for the new entry and concatenate it\n",
    "        new_row = pd.DataFrame({\n",
    "            \"reaction\": [reaction],\n",
    "            \"metabolite\": [metabolite_id],\n",
    "            \"description\": [description],  # aus dem TSV File, sonst leer\n",
    "            \"flux\": [flux],\n",
    "            \"global_id\": [reaction.replace(\"_m\", \"_e0\")]\n",
    "        })\n",
    "        completed = pd.concat([completed, new_row.set_index('reaction')])\n",
    "\n",
    "# Reset the index to turn 'reaction' back into a column\n",
    "completed.reset_index(inplace=True)\n",
    "\n",
    "# Save the results\n",
    "completed.to_csv(f'{pro_ver}_completed.csv', sep=';', index=False)\n",
    "print(completed)\n"
   ]
  },
  {
   "cell_type": "code",
   "execution_count": null,
   "id": "8dcd9593-e606-47c3-ac6f-fdd05365b6ce",
   "metadata": {
    "tags": []
   },
   "outputs": [],
   "source": [
    "fluxes"
   ]
  },
  {
   "cell_type": "code",
   "execution_count": null,
   "id": "d47499fb-ef5e-44ed-a79b-39fe46503a0e",
   "metadata": {
    "tags": []
   },
   "outputs": [],
   "source": [
    "completed.shape"
   ]
  },
  {
   "cell_type": "code",
   "execution_count": null,
   "id": "acde66c8-9cb5-44d1-b145-338db0cb1dd5",
   "metadata": {
    "tags": []
   },
   "outputs": [],
   "source": [
    "\n",
    "arti = Artifact.import_data(\"MicomMedium[Global]\", completed)\n",
    "arti.save(f'{pro_ver}_diet.qza')\n",
    "completed.to_csv(f'{pro_ver}_medium.csv', sep=',', index=False)"
   ]
  },
  {
   "cell_type": "code",
   "execution_count": null,
   "id": "4d1ab0c6-7f1a-4274-944d-bc0beb91d03c",
   "metadata": {
    "tags": []
   },
   "outputs": [],
   "source": [
    "\n",
    "# Alternative to arti, if it doesnt work do it manually:\n",
    "#print(\"\")\n",
    "print(\"------\")\n",
    "print(f'cd {working_dir}')\n",
    "print(f'qiime tools import --type MicomMedium[Global] --input-path {working_dir}/medium.csv --output-path {working_dir}/{pro_ver}_diet.qza')"
   ]
  },
  {
   "cell_type": "code",
   "execution_count": null,
   "id": "e3d7bdc0-9e04-4acb-90d8-84bd0583ce10",
   "metadata": {
    "tags": []
   },
   "outputs": [],
   "source": [
    "completed_ssniff = f'{working_dir}/{pro_ver}_diet.qza'\n",
    "completed_ssniff"
   ]
  },
  {
   "cell_type": "code",
   "execution_count": null,
   "id": "ae8abeec-b29f-4c46-923d-52cacb33131b",
   "metadata": {
    "tags": []
   },
   "outputs": [],
   "source": [
    "comp_snif_load = load_qiime_medium(completed_ssniff)\n",
    "comp_snif_load.to_csv(f'{pro_ver}_comp_snif_load.csv', sep=';', index=True)\n",
    "comp_snif_load"
   ]
  },
  {
   "cell_type": "code",
   "execution_count": null,
   "id": "25731dd6-377a-4035-94bc-cf84de14ad39",
   "metadata": {
    "scrolled": true,
    "tags": []
   },
   "outputs": [],
   "source": [
    "\n",
    "\n",
    "re_check = check_db_medium(mcmurgut_db, comp_snif_load, threads=cpus_used)\n",
    "re_check.to_csv(f'{pro_ver}_re_check.csv', sep=';', index=True)\n",
    "re_check"
   ]
  },
  {
   "cell_type": "code",
   "execution_count": null,
   "id": "fa542f59-74d7-4ae0-938f-8ba1409484ee",
   "metadata": {
    "tags": []
   },
   "outputs": [],
   "source": [
    "re_check.growth_rate.describe()"
   ]
  },
  {
   "cell_type": "code",
   "execution_count": null,
   "id": "b67d46ab-546f-4b07-801a-31a07e4cf388",
   "metadata": {
    "tags": []
   },
   "outputs": [],
   "source": [
    "re_check.can_grow.value_counts()"
   ]
  },
  {
   "cell_type": "code",
   "execution_count": null,
   "id": "4339feaa-57a5-4429-8462-58dcba21c108",
   "metadata": {
    "tags": []
   },
   "outputs": [],
   "source": [
    "re_check.groupby(\"can_grow\").growth_rate.describe()"
   ]
  },
  {
   "cell_type": "markdown",
   "id": "deb057b8-024f-42d7-86b6-5f985bf359ac",
   "metadata": {},
   "source": [
    "# Script Create medium\n",
    "Finished!"
   ]
  },
  {
   "cell_type": "code",
   "execution_count": null,
   "id": "7fa5d8f7-ffb4-4d41-8cb0-d445f06a35a8",
   "metadata": {},
   "outputs": [],
   "source": []
  }
 ],
 "metadata": {
  "kernelspec": {
   "display_name": "Qiime2-2024.2_ampl-Micom0.35.0",
   "language": "python",
   "name": "qiime2-2024.2_ampl-micom0.35.0"
  },
  "language_info": {
   "codemirror_mode": {
    "name": "ipython",
    "version": 3
   },
   "file_extension": ".py",
   "mimetype": "text/x-python",
   "name": "python",
   "nbconvert_exporter": "python",
   "pygments_lexer": "ipython3",
   "version": "3.8.15"
  }
 },
 "nbformat": 4,
 "nbformat_minor": 5
}
