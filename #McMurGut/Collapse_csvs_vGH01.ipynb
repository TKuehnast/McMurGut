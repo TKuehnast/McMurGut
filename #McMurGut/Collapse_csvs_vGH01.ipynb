{
 "cells": [
  {
   "cell_type": "markdown",
   "id": "43af0993-adb7-4e88-aea3-5bdc85805cb8",
   "metadata": {},
   "source": [
    "# Script Collapse csvs\n",
    "Version GitHub 01  \n",
    "\n",
    "Taxonomic tables from all mouse experiments are collapsed to contain genera and abundances in single rows.\n",
    "\n",
    "Output like this:\n",
    "\n",
    "                                 genus  abundance  \n",
    "    0                               A2      29598  \n",
    "    1                           ASF356      38895  \n",
    "    2                    Acetatifactor       4433  \n",
    "    3                    Achromobacter         11  \n",
    "    4                    Acinetobacter        286  \n",
    "    ..                             ...        ...  \n",
    "    207  unknown_Peptostreptococcaceae         15  \n",
    "    208       unknown_Rhodospirillales      17634  \n",
    "    209        unknown_Ruminococcaceae      28582  \n",
    "    210         unknown_Tannerellaceae      13276  \n",
    "    211                      vadinBE97         35  \n",
    "\n",
    "\n",
    "########################################################  \n",
    "By Torben Kuehnast, torben.kuehnast@gmail.com, 2024"
   ]
  },
  {
   "cell_type": "code",
   "execution_count": null,
   "id": "d4434c21-04cf-4803-a657-9967e50dcbb9",
   "metadata": {
    "tags": []
   },
   "outputs": [],
   "source": [
    "import pandas as pd\n",
    "\n",
    "# Load the CSV file\n",
    "file_path = 'project_final_micom_tas.csv'  # Replace with your CSV file path\n",
    "df = pd.read_csv(file_path, delimiter=',')\n",
    "\n",
    "# Group by the specified columns and sum the abundance values\n",
    "collapsed_df = df.groupby(['order', 'family', 'genus', 'species', 'sample_id'], as_index=False)['abundance'].sum()\n",
    "\n",
    "# Remove rows where abundance is zero\n",
    "collapsed_df = collapsed_df[collapsed_df['abundance'] != 0]\n",
    "\n",
    "# Further collapse the data to only genus and summed abundance\n",
    "final_collapsed_df = collapsed_df.groupby('genus', as_index=False)['abundance'].sum()\n",
    "\n",
    "# Display the result\n",
    "print(final_collapsed_df)\n",
    "\n",
    "# If you want to save the result to a new CSV file\n",
    "final_collapsed_df.to_csv('final_collapsed_data.csv', index=False, sep=';')\n"
   ]
  },
  {
   "cell_type": "markdown",
   "id": "3b5efb5c-a962-452a-a763-6f039731a1c9",
   "metadata": {},
   "source": [
    "# Script Collapse csvs\n",
    "\n",
    "Finished!"
   ]
  }
 ],
 "metadata": {
  "kernelspec": {
   "display_name": "Qiime2-2024.2_ampl-Micom0.35.0",
   "language": "python",
   "name": "qiime2-2024.2_ampl-micom0.35.0"
  },
  "language_info": {
   "codemirror_mode": {
    "name": "ipython",
    "version": 3
   },
   "file_extension": ".py",
   "mimetype": "text/x-python",
   "name": "python",
   "nbconvert_exporter": "python",
   "pygments_lexer": "ipython3",
   "version": "3.8.15"
  }
 },
 "nbformat": 4,
 "nbformat_minor": 5
}
